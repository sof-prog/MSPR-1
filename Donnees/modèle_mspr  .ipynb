{
  "cells": [
    {
      "cell_type": "code",
      "execution_count": null,
      "metadata": {
        "colab": {
          "base_uri": "https://localhost:8080/"
        },
        "id": "16hM99XPEtDo",
        "outputId": "21e349ef-2d53-4b6f-8208-7c55338fc620"
      },
      "outputs": [
        {
          "output_type": "stream",
          "name": "stdout",
          "text": [
            "Drive already mounted at /content/drive; to attempt to forcibly remount, call drive.mount(\"/content/drive\", force_remount=True).\n"
          ]
        }
      ],
      "source": [
        "from google.colab import drive\n",
        "drive.mount('/content/drive')\n"
      ]
    },
    {
      "cell_type": "code",
      "execution_count": null,
      "metadata": {
        "id": "S8ebg5o5IFUW"
      },
      "outputs": [],
      "source": [
        "import pandas as pd\n",
        "\n",
        "# Chemins vers les fichiers sur Google Drive\n",
        "base_path = '/content/drive/MyDrive/Donnees/'\n",
        "\n",
        "def load_data(file_name):\n",
        "    return pd.read_csv(base_path + file_name)\n",
        "\n",
        "# Chargement des données\n",
        "election = load_data(\"Election_Securite.csv\")\n",
        "emploi = load_data(\"Emploi.csv\")\n",
        "education = load_data(\"Education.csv\")\n",
        "sante = load_data(\"Sante.csv\")\n",
        "pouvoir_achat = load_data(\"Pouvoir_Achat.csv\")\n",
        "\n",
        "# Préparation des données d'élection\n",
        "election = election.loc[:, ['% Abs/Ins', 'Votants', '% Vot/Ins', 'Blancs', '% Blancs/Ins', '% Blancs/Vot',\n",
        "                            'Nuls', '% Nuls/Ins', '% Nuls/Vot', 'Exprimés', '% Exp/Ins', '% Exp/Vot', \"Nom\", \"code\"]]\n",
        "election.rename(columns={'code': 'code departement'}, inplace=True)\n",
        "election['code departement'] = election['code departement'].astype(str)\n",
        "\n",
        "# Fusion des bases de données\n",
        "def merge_data(dfs, on='code departement'):\n",
        "    from functools import reduce\n",
        "    return reduce(lambda left, right: pd.merge(left, right, on=on), dfs)\n",
        "\n",
        "database = merge_data([election, education, sante])\n",
        "database.dropna(inplace=True)\n",
        "\n",
        "# Séparation des données en caractéristiques (X) et cible (y)\n",
        "y = database.pop(\"Nom\")\n",
        "X = database\n"
      ]
    },
    {
      "cell_type": "code",
      "source": [
        "# Fusion des bases de données\n",
        "def merge_data(dfs, on='code departement'):\n",
        "    from functools import reduce\n",
        "    merged_data = reduce(lambda left, right: pd.merge(left, right, on=on), dfs)\n",
        "    print(\"Nombre de lignes et de colonnes après fusion des données :\", merged_data.shape)\n",
        "    return merged_data\n",
        "\n",
        "database = merge_data([election, education, sante])\n"
      ],
      "metadata": {
        "colab": {
          "base_uri": "https://localhost:8080/"
        },
        "id": "4zg-JcOBdZfD",
        "outputId": "9e06d5be-0e20-4534-db75-287a915264e9"
      },
      "execution_count": null,
      "outputs": [
        {
          "output_type": "stream",
          "name": "stdout",
          "text": [
            "Nombre de lignes et de colonnes après fusion des données : (5797932, 22)\n"
          ]
        }
      ]
    },
    {
      "cell_type": "code",
      "source": [
        "# Fusion des bases de données\n",
        "def merge_data(dfs, on='code departement'):\n",
        "    from functools import reduce\n",
        "    merged_data = reduce(lambda left, right: pd.merge(left, right, on=on), dfs)\n",
        "    print(\"Nombre de lignes et de colonnes après fusion des données :\", merged_data.shape)\n",
        "    print(\"Premières lignes du DataFrame fusionné :\\n\", merged_data.head())  # Affiche les premières lignes\n",
        "    return merged_data\n",
        "\n",
        "database = merge_data([election, education, sante])\n"
      ],
      "metadata": {
        "colab": {
          "base_uri": "https://localhost:8080/"
        },
        "id": "xqET9LUuepeU",
        "outputId": "9edf7c42-1c97-4afc-a546-7b6d1660ccde"
      },
      "execution_count": null,
      "outputs": [
        {
          "output_type": "stream",
          "name": "stdout",
          "text": [
            "Nombre de lignes et de colonnes après fusion des données : (5797932, 22)\n",
            "Premières lignes du DataFrame fusionné :\n",
            "    % Abs/Ins  Votants  % Vot/Ins  Blancs  % Blancs/Ins  % Blancs/Vot  Nuls  \\\n",
            "0      10.34     1058      89.66      17          1.44          1.61     6   \n",
            "1      10.34     1058      89.66      17          1.44          1.61     6   \n",
            "2      10.34     1058      89.66      17          1.44          1.61     6   \n",
            "3      10.34     1058      89.66      17          1.44          1.61     6   \n",
            "4      10.34     1058      89.66      17          1.44          1.61     6   \n",
            "\n",
            "   % Nuls/Ins  % Nuls/Vot  Exprimés  ...      Nom  code departement EC_MAT  \\\n",
            "0        0.51        0.57      1035  ...  ARTHAUD                41      5   \n",
            "1        0.51        0.57      1035  ...  ARTHAUD                41      5   \n",
            "2        0.51        0.57      1035  ...  ARTHAUD                41      5   \n",
            "3        0.51        0.57      1035  ...  ARTHAUD                41      5   \n",
            "4        0.51        0.57      1035  ...  ARTHAUD                41      5   \n",
            "\n",
            "  EC_ELEM  COLL  LYC  CFA      C  C_C2SNP  C_C2SP  \n",
            "0       7     3    2    0  13962     1483     300  \n",
            "1       7     3    2    0  14070     1436     353  \n",
            "2       7     3    2    0  16705     2099     405  \n",
            "3       7     3    2    0  16990     2072     403  \n",
            "4       7     3    2    0  44610     8048    2234  \n",
            "\n",
            "[5 rows x 22 columns]\n"
          ]
        }
      ]
    },
    {
      "cell_type": "code",
      "source": [
        "# Sauvegarde du DataFrame fusionné en CSV\n",
        "database.to_csv('/content/database_fusion.csv', index=False)\n",
        "\n",
        "# Téléchargement du fichier CSV\n",
        "from google.colab import files\n",
        "files.download('/content/database_fusion.csv')\n"
      ],
      "metadata": {
        "colab": {
          "base_uri": "https://localhost:8080/",
          "height": 34
        },
        "id": "aR2h_bZufZyS",
        "outputId": "75e5ec49-80a6-4cd7-bf7d-6dfe5a407730"
      },
      "execution_count": null,
      "outputs": [
        {
          "output_type": "display_data",
          "data": {
            "text/plain": [
              "<IPython.core.display.Javascript object>"
            ],
            "application/javascript": [
              "\n",
              "    async function download(id, filename, size) {\n",
              "      if (!google.colab.kernel.accessAllowed) {\n",
              "        return;\n",
              "      }\n",
              "      const div = document.createElement('div');\n",
              "      const label = document.createElement('label');\n",
              "      label.textContent = `Downloading \"${filename}\": `;\n",
              "      div.appendChild(label);\n",
              "      const progress = document.createElement('progress');\n",
              "      progress.max = size;\n",
              "      div.appendChild(progress);\n",
              "      document.body.appendChild(div);\n",
              "\n",
              "      const buffers = [];\n",
              "      let downloaded = 0;\n",
              "\n",
              "      const channel = await google.colab.kernel.comms.open(id);\n",
              "      // Send a message to notify the kernel that we're ready.\n",
              "      channel.send({})\n",
              "\n",
              "      for await (const message of channel.messages) {\n",
              "        // Send a message to notify the kernel that we're ready.\n",
              "        channel.send({})\n",
              "        if (message.buffers) {\n",
              "          for (const buffer of message.buffers) {\n",
              "            buffers.push(buffer);\n",
              "            downloaded += buffer.byteLength;\n",
              "            progress.value = downloaded;\n",
              "          }\n",
              "        }\n",
              "      }\n",
              "      const blob = new Blob(buffers, {type: 'application/binary'});\n",
              "      const a = document.createElement('a');\n",
              "      a.href = window.URL.createObjectURL(blob);\n",
              "      a.download = filename;\n",
              "      div.appendChild(a);\n",
              "      a.click();\n",
              "      div.remove();\n",
              "    }\n",
              "  "
            ]
          },
          "metadata": {}
        },
        {
          "output_type": "display_data",
          "data": {
            "text/plain": [
              "<IPython.core.display.Javascript object>"
            ],
            "application/javascript": [
              "download(\"download_aae9fe6e-259c-48dc-bdb2-5526e4a521a5\", \"database_fusion.csv\", 579271324)"
            ]
          },
          "metadata": {}
        }
      ]
    },
    {
      "cell_type": "code",
      "execution_count": null,
      "metadata": {
        "id": "8ZbqldVBIj4s"
      },
      "outputs": [],
      "source": [
        "from sklearn.preprocessing import LabelEncoder, MinMaxScaler\n",
        "\n",
        "# Encodage de la cible\n",
        "le = LabelEncoder()\n",
        "y_encoded = le.fit_transform(y)\n",
        "\n",
        "# Normalisation des données\n",
        "scaler = MinMaxScaler()\n",
        "X_normalized = scaler.fit_transform(X)\n"
      ]
    },
    {
      "cell_type": "code",
      "execution_count": null,
      "metadata": {
        "id": "IT3MTxdDIye2"
      },
      "outputs": [],
      "source": [
        "from sklearn.model_selection import train_test_split\n",
        "\n",
        "# Division des données en ensembles d'entraînement et de test\n",
        "X_train, X_test, y_train, y_test = train_test_split(X_normalized, y_encoded, test_size=0.2, random_state=42)\n"
      ]
    },
    {
      "cell_type": "code",
      "source": [
        "from sklearn.linear_model import LogisticRegression\n",
        "from sklearn.metrics import classification_report, accuracy_score\n",
        "\n",
        "# Modèle de Régression Logistique\n",
        "logreg = LogisticRegression(multi_class='multinomial', solver='lbfgs')\n",
        "logreg.fit(X_train, y_train)\n",
        "y_pred_logreg = logreg.predict(X_test)\n",
        "\n",
        "# Évaluation du modèle\n",
        "print(\"Accuracy Logistic Regression: {:.2f}%\".format(accuracy_score(y_test, y_pred_logreg) * 100))\n",
        "print(classification_report(y_test, y_pred_logreg))\n"
      ],
      "metadata": {
        "colab": {
          "base_uri": "https://localhost:8080/"
        },
        "id": "0vGAXP5ear7i",
        "outputId": "451c41a4-da29-4220-bf5c-a5b9ec3409ec"
      },
      "execution_count": null,
      "outputs": [
        {
          "output_type": "stream",
          "name": "stderr",
          "text": [
            "/usr/local/lib/python3.10/dist-packages/sklearn/linear_model/_logistic.py:458: ConvergenceWarning: lbfgs failed to converge (status=1):\n",
            "STOP: TOTAL NO. of ITERATIONS REACHED LIMIT.\n",
            "\n",
            "Increase the number of iterations (max_iter) or scale the data as shown in:\n",
            "    https://scikit-learn.org/stable/modules/preprocessing.html\n",
            "Please also refer to the documentation for alternative solver options:\n",
            "    https://scikit-learn.org/stable/modules/linear_model.html#logistic-regression\n",
            "  n_iter_i = _check_optimize_result(\n"
          ]
        },
        {
          "output_type": "stream",
          "name": "stdout",
          "text": [
            "Accuracy Logistic Regression: 90.37%\n"
          ]
        },
        {
          "output_type": "stream",
          "name": "stderr",
          "text": [
            "/usr/local/lib/python3.10/dist-packages/sklearn/metrics/_classification.py:1344: UndefinedMetricWarning: Precision and F-score are ill-defined and being set to 0.0 in labels with no predicted samples. Use `zero_division` parameter to control this behavior.\n",
            "  _warn_prf(average, modifier, msg_start, len(result))\n",
            "/usr/local/lib/python3.10/dist-packages/sklearn/metrics/_classification.py:1344: UndefinedMetricWarning: Precision and F-score are ill-defined and being set to 0.0 in labels with no predicted samples. Use `zero_division` parameter to control this behavior.\n",
            "  _warn_prf(average, modifier, msg_start, len(result))\n"
          ]
        },
        {
          "output_type": "stream",
          "name": "stdout",
          "text": [
            "              precision    recall  f1-score   support\n",
            "\n",
            "           0       0.93      0.91      0.92    125815\n",
            "           1       0.92      0.96      0.94    372029\n",
            "           2       0.94      0.97      0.96    267402\n",
            "           3       0.91      0.61      0.73     41762\n",
            "           4       0.95      0.96      0.96     21328\n",
            "           5       0.81      0.69      0.75     61466\n",
            "           6       1.00      0.99      0.99     27263\n",
            "           7       0.00      0.00      0.00      4775\n",
            "           8       0.83      0.88      0.86     70245\n",
            "           9       0.83      0.86      0.84    160536\n",
            "          10       0.00      0.00      0.00      6966\n",
            "\n",
            "    accuracy                           0.90   1159587\n",
            "   macro avg       0.74      0.71      0.72   1159587\n",
            "weighted avg       0.89      0.90      0.90   1159587\n",
            "\n"
          ]
        },
        {
          "output_type": "stream",
          "name": "stderr",
          "text": [
            "/usr/local/lib/python3.10/dist-packages/sklearn/metrics/_classification.py:1344: UndefinedMetricWarning: Precision and F-score are ill-defined and being set to 0.0 in labels with no predicted samples. Use `zero_division` parameter to control this behavior.\n",
            "  _warn_prf(average, modifier, msg_start, len(result))\n"
          ]
        }
      ]
    },
    {
      "cell_type": "code",
      "source": [
        "from sklearn.ensemble import RandomForestClassifier\n",
        "\n",
        "# Modèle Random Forest\n",
        "rf_classifier = RandomForestClassifier(n_estimators=100, random_state=42)\n",
        "rf_classifier.fit(X_train, y_train)\n",
        "y_pred_rf = rf_classifier.predict(X_test)\n",
        "\n",
        "# Évaluation du modèle\n",
        "print(\"Accuracy Random Forest: {:.2f}%\".format(accuracy_score(y_test, y_pred_rf) * 100))\n",
        "print(classification_report(y_test, y_pred_rf))\n"
      ],
      "metadata": {
        "colab": {
          "base_uri": "https://localhost:8080/"
        },
        "id": "0eztA2Qsa0Ik",
        "outputId": "a51254cc-fb54-43c8-a66d-39e094fb6107"
      },
      "execution_count": null,
      "outputs": [
        {
          "output_type": "stream",
          "name": "stdout",
          "text": [
            "Accuracy Random Forest: 100.00%\n",
            "              precision    recall  f1-score   support\n",
            "\n",
            "           0       1.00      1.00      1.00    125815\n",
            "           1       1.00      1.00      1.00    372029\n",
            "           2       1.00      1.00      1.00    267402\n",
            "           3       1.00      1.00      1.00     41762\n",
            "           4       1.00      1.00      1.00     21328\n",
            "           5       1.00      1.00      1.00     61466\n",
            "           6       1.00      1.00      1.00     27263\n",
            "           7       1.00      1.00      1.00      4775\n",
            "           8       1.00      1.00      1.00     70245\n",
            "           9       1.00      1.00      1.00    160536\n",
            "          10       1.00      1.00      1.00      6966\n",
            "\n",
            "    accuracy                           1.00   1159587\n",
            "   macro avg       1.00      1.00      1.00   1159587\n",
            "weighted avg       1.00      1.00      1.00   1159587\n",
            "\n"
          ]
        }
      ]
    },
    {
      "cell_type": "code",
      "execution_count": null,
      "metadata": {
        "colab": {
          "background_save": true,
          "base_uri": "https://localhost:8080/"
        },
        "id": "oOjlyA6LMhMG",
        "outputId": "22352041-13df-4a14-c287-5c736a25c56e"
      },
      "outputs": [
        {
          "name": "stdout",
          "output_type": "stream",
          "text": [
            "Epoch 1/20\n",
            "36238/36238 [==============================] - 135s 4ms/step - loss: 0.0403 - accuracy: 0.9889 - val_loss: 3.0216e-04 - val_accuracy: 0.9999\n",
            "Epoch 2/20\n",
            "36238/36238 [==============================] - 124s 3ms/step - loss: 0.0077 - accuracy: 0.9976 - val_loss: 2.2537e-04 - val_accuracy: 1.0000\n",
            "Epoch 3/20\n",
            "36238/36238 [==============================] - 124s 3ms/step - loss: 0.0062 - accuracy: 0.9981 - val_loss: 1.3841e-04 - val_accuracy: 1.0000\n",
            "Epoch 4/20\n",
            "36238/36238 [==============================] - 132s 4ms/step - loss: 0.0055 - accuracy: 0.9983 - val_loss: 1.0498e-04 - val_accuracy: 0.9999\n",
            "Epoch 5/20\n",
            "36238/36238 [==============================] - 132s 4ms/step - loss: 0.0051 - accuracy: 0.9984 - val_loss: 8.8339e-06 - val_accuracy: 1.0000\n",
            "Epoch 6/20\n",
            "36238/36238 [==============================] - 126s 3ms/step - loss: 0.0047 - accuracy: 0.9986 - val_loss: 6.3917e-06 - val_accuracy: 1.0000\n",
            "Epoch 7/20\n",
            "36238/36238 [==============================] - 134s 4ms/step - loss: 0.0044 - accuracy: 0.9986 - val_loss: 6.8309e-05 - val_accuracy: 1.0000\n",
            "Epoch 8/20\n",
            "36238/36238 [==============================] - 128s 4ms/step - loss: 0.0042 - accuracy: 0.9987 - val_loss: 3.2718e-05 - val_accuracy: 1.0000\n",
            "Epoch 9/20\n",
            "36238/36238 [==============================] - 126s 3ms/step - loss: 0.0042 - accuracy: 0.9987 - val_loss: 5.6552e-06 - val_accuracy: 1.0000\n",
            "Epoch 10/20\n",
            "36238/36238 [==============================] - 126s 3ms/step - loss: 0.0040 - accuracy: 0.9988 - val_loss: 2.1848e-06 - val_accuracy: 1.0000\n",
            "Epoch 11/20\n",
            "36238/36238 [==============================] - 138s 4ms/step - loss: 0.0039 - accuracy: 0.9988 - val_loss: 4.1757e-06 - val_accuracy: 1.0000\n",
            "Epoch 12/20\n",
            "36238/36238 [==============================] - 129s 4ms/step - loss: 0.0037 - accuracy: 0.9988 - val_loss: 6.7394e-06 - val_accuracy: 1.0000\n",
            "Epoch 13/20\n",
            "36238/36238 [==============================] - 124s 3ms/step - loss: 0.0037 - accuracy: 0.9989 - val_loss: 5.4791e-06 - val_accuracy: 1.0000\n",
            "Epoch 14/20\n",
            "36238/36238 [==============================] - 124s 3ms/step - loss: 0.0037 - accuracy: 0.9989 - val_loss: 1.2168e-06 - val_accuracy: 1.0000\n",
            "Epoch 15/20\n",
            "36238/36238 [==============================] - 130s 4ms/step - loss: 0.0036 - accuracy: 0.9989 - val_loss: 1.1013e-06 - val_accuracy: 1.0000\n",
            "Epoch 16/20\n",
            "36238/36238 [==============================] - 137s 4ms/step - loss: 0.0036 - accuracy: 0.9989 - val_loss: 4.1488e-06 - val_accuracy: 1.0000\n",
            "Epoch 17/20\n",
            "36238/36238 [==============================] - 131s 4ms/step - loss: 0.0035 - accuracy: 0.9989 - val_loss: 6.7560e-07 - val_accuracy: 1.0000\n",
            "Epoch 18/20\n",
            "36238/36238 [==============================] - 120s 3ms/step - loss: 0.0034 - accuracy: 0.9989 - val_loss: 4.4416e-07 - val_accuracy: 1.0000\n",
            "Epoch 19/20\n",
            "36238/36238 [==============================] - 120s 3ms/step - loss: 0.0035 - accuracy: 0.9989 - val_loss: 1.1547e-06 - val_accuracy: 1.0000\n",
            "Epoch 20/20\n",
            "36238/36238 [==============================] - 119s 3ms/step - loss: 0.0034 - accuracy: 0.9990 - val_loss: 7.9347e-07 - val_accuracy: 1.0000\n",
            "36238/36238 [==============================] - 60s 2ms/step - loss: 7.9347e-07 - accuracy: 1.0000\n",
            "Accuracy MLP: 100.00%\n"
          ]
        },
        {
          "data": {
            "image/png": "[encoded data removed]",
            "text/plain": [
              "<Figure size 640x480 with 1 Axes>"
            ]
          },
          "metadata": {},
          "output_type": "display_data"
        },
        {
          "data": {
            "image/png": "[encoded data removed]",
            "text/plain": [
              "<Figure size 640x480 with 1 Axes>"
            ]
          },
          "metadata": {},
          "output_type": "display_data"
        }
      ],
      "source": [
        "from keras.models import Sequential\n",
        "from keras.layers import Dense, Dropout\n",
        "from keras.utils import to_categorical\n",
        "import matplotlib.pyplot as plt\n",
        "\n",
        "# Conversion des étiquettes en vecteurs binaires catégoriques\n",
        "y_train_categorical = to_categorical(y_train)\n",
        "y_test_categorical = to_categorical(y_test)\n",
        "\n",
        "# Création du modèle MLP\n",
        "model = Sequential()\n",
        "model.add(Dense(100, activation='tanh', input_shape=(X.shape[1],)))\n",
        "model.add(Dropout(0.5))\n",
        "model.add(Dense(100, activation='tanh'))\n",
        "model.add(Dropout(0.5))\n",
        "model.add(Dense(100, activation='tanh'))\n",
        "model.add(Dense(len(np.unique(y_encoded)), activation='softmax'))\n",
        "\n",
        "# Compilation du modèle\n",
        "model.compile(optimizer='adam', loss='categorical_crossentropy', metrics=['accuracy'])\n",
        "\n",
        "# Entraînement du modèle\n",
        "history = model.fit(X_train, y_train_categorical, epochs=20, batch_size=128, validation_data=(X_test, y_test_categorical))\n",
        "\n",
        "# Évaluation du modèle\n",
        "loss, accuracy_mlp = model.evaluate(X_test, y_test_categorical)\n",
        "print(\"Accuracy MLP: {:.2f}%\".format(accuracy_mlp * 100))\n",
        "\n",
        "# Visualisation des courbes de perte et de précision\n",
        "plt.plot(history.history['loss'], label='Train')\n",
        "plt.plot(history.history['val_loss'], label='Validation')\n",
        "plt.xlabel('Epoch')\n",
        "plt.ylabel('Loss')\n",
        "plt.legend()\n",
        "plt.title('Courbes de perte')\n",
        "plt.show()\n",
        "\n",
        "plt.plot(history.history['accuracy'], label='Train')\n",
        "plt.plot(history.history['val_accuracy'], label='Validation')\n",
        "plt.xlabel('Epoch')\n",
        "plt.ylabel('Accuracy')\n",
        "plt.legend()\n",
        "plt.title('Courbes de précision')\n",
        "plt.show()\n"
      ]
    }
  ],
  "metadata": {
    "colab": {
      "provenance": []
    },
    "kernelspec": {
      "display_name": "Python 3",
      "name": "python3"
    },
    "language_info": {
      "name": "python"
    }
  },
  "nbformat": 4,
  "nbformat_minor": 0
}